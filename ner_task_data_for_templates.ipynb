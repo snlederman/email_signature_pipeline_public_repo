{
 "cells": [
  {
   "cell_type": "code",
   "execution_count": null,
   "id": "initial_id",
   "metadata": {
    "collapsed": true
   },
   "outputs": [],
   "source": [
    "from pyspark.sql.functions import udf, col\n",
    "from pyspark.sql.types import StringType\n",
    "import os"
   ]
  },
  {
   "metadata": {},
   "cell_type": "code",
   "outputs": [],
   "execution_count": null,
   "source": "load_dotenv()",
   "id": "49d8f56db70d9b6"
  },
  {
   "metadata": {},
   "cell_type": "code",
   "outputs": [],
   "execution_count": null,
   "source": [
    "DATASET = os.getenv('DATASET')\n",
    "NUMBER_SAMPLES = 100000"
   ],
   "id": "1e0dbd4703714ae9"
  },
  {
   "metadata": {},
   "cell_type": "code",
   "outputs": [],
   "execution_count": null,
   "source": [
    "# Reading the schema and data for the the templates\n",
    "df_schema = spark.read.parquet(DATASET)\n",
    "df_parser = spark.read.schema(df_schema.schema).parquet (DATASET)\n",
    "print(df_parser.count())\n",
    "display(df_parser)"
   ],
   "id": "dc05f2d5160f511d"
  },
  {
   "metadata": {
    "jupyter": {
     "is_executing": true
    }
   },
   "cell_type": "code",
   "source": [
    "# Functions to extract the last values\n",
    "def get_last_organization_name(organizations):\n",
    "    \"\"\"\"\n",
    "    Extracts the name of the last organization from a list of organization dictionaries.\n",
    "    :param organizations: List of dictionaries representing organizations.\n",
    "    :return: The name of the last organization in the list, or None if the list is empty.\n",
    "    \"\"\"\n",
    "    return organizations[-1]['name'] if organizations else None\n",
    "\n",
    "def get_last_phone(phones):\n",
    "    \"\"\"\"\n",
    "    Extracts the last phone number from a list of phone dictionaries.\n",
    "    :param phones: LiST oT dictionaries represencing phone numberS.\n",
    "    :return: The last phone number in the list, or None if the list is empty.\n",
    "    \"\"\"\n",
    "    return phones [-1] ['number'] if phones else None\n",
    "\n",
    "def get_last_location(locations):\n",
    "    \"\"\"\n",
    "    Extracts the last raw location from a list of location dictionaries.\n",
    "    :param locations: List of dictionaries representing locations. \n",
    "    :return: The last raw location in the list, or None if the list is empty.\n",
    "    \"\"\"\n",
    "    return locations [-1][' raw_location'] if locations else None\n",
    "\n",
    "def get_last_email(emails):\n",
    "    \"\"\"\n",
    "    Extracts the last email address from a list of email dictionaries.\n",
    "    :param emails: List of dictionaries representing email addresses. \n",
    "    :return: The last email address in the list, or None if the list is empty.\n",
    "    \"\"\"\n",
    "    return emails[-1]['address'] if emails else None\n",
    "\n",
    "#A PySpark UDF is created by passing a custom function and its return type. when applied to a DataFrame, It processes the input column using the custom function and generates a new column with the specified data type.\n",
    "get_last_organization_name_udf = udf(get_last_organization_name, StringType ( ))\n",
    "get_last_phone_udf = udf(get_last_phone, StringType())\n",
    "get_last_location_udf = udf(get_last_location, StringType())\n",
    "get_last_email_udf = udf(get_last_email, StringType())"
   ],
   "id": "98710144146367c5",
   "outputs": [],
   "execution_count": null
  },
  {
   "metadata": {
    "jupyter": {
     "is_executing": true
    }
   },
   "cell_type": "code",
   "source": [
    "#Creates a new DataFrame named new_df by selecting and transforming specific columns from the df_parser DataFrame using PySpark UDFs and column operations. The new DataFrame includes the following columns: 'name', 'phone', 'location', 'job_title', 'organization', and 'email'.\n",
    "new_df = df_parser.select(col(\"'name.raw\").alias(\"name\"), get_last_phone_udf(\"phones\").alias(\"phone\"), get_last_location_udf(col(\"locations\")).alias(\"location\"), col(\"job_title.raw\").alias(\"job_title\"), get_last_organization_name_udf(col(\"organizations\")).alias(\"organization\"), get_last_email_udf(col('emails')).alias (\"email\"))\n",
    "\n",
    "print (new_df.count())\n",
    "display(new_df)"
   ],
   "id": "320523b0e85bcc73",
   "outputs": [],
   "execution_count": null
  },
  {
   "metadata": {},
   "cell_type": "code",
   "outputs": [],
   "execution_count": null,
   "source": [
    "#Create a new DataFrame called filtered_df by removing rows with any null or missing values from the new_df DataFrame using the dropna() method.\n",
    "filtered_df = new_df.dropna()\n",
    "\n",
    "print(filtered_df.count())\n",
    "display(filtered_df)"
   ],
   "id": "b25fce9923d17e46"
  },
  {
   "metadata": {},
   "cell_type": "code",
   "outputs": [],
   "execution_count": null,
   "source": [
    "#Calculates the sampling fraction based on the desired number of samples (NUMBER_SAMPLES) divided by the total number of rows in the filtered_df DataFrame. It then creates a new DataFrame called sampled_df by performing a random sampling of the rows in the filtered_df DataFrame without replacement, using the calculated sampling fraction.\n",
    "fraction = NUMBER_SAMPLES / filtered_df.count()\n",
    "sampled_df = filtered_df.sample(withReplacement=False, fraction=fraction)\n",
    "\n",
    "print (sampled_df.count())\n",
    "display(sampled_df)"
   ],
   "id": "351a2a552a46cd4f"
  },
  {
   "metadata": {},
   "cell_type": "code",
   "outputs": [],
   "execution_count": null,
   "source": [
    "#Writes the sampled_df DataFrame to a specified path in the Parquet file format, using the 'overwrite' mode to replace any existing data at the destination. The resulting Parquet file can be used for efficient storage and further processing of the sampled data.\n",
    "sampled_df write mode('overwrite').parquet('ner_research/sample')"
   ],
   "id": "5bcfe338344f07a9"
  }
 ],
 "metadata": {
  "kernelspec": {
   "display_name": "Python 3",
   "language": "python",
   "name": "python3"
  },
  "language_info": {
   "codemirror_mode": {
    "name": "ipython",
    "version": 2
   },
   "file_extension": ".py",
   "mimetype": "text/x-python",
   "name": "python",
   "nbconvert_exporter": "python",
   "pygments_lexer": "ipython2",
   "version": "2.7.6"
  }
 },
 "nbformat": 4,
 "nbformat_minor": 5
}
